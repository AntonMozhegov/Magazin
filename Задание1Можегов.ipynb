{
  "nbformat": 4,
  "nbformat_minor": 0,
  "metadata": {
    "colab": {
      "provenance": [],
      "authorship_tag": "ABX9TyPQI1Of2DFvwl8kjdASpgF7",
      "include_colab_link": true
    },
    "kernelspec": {
      "name": "python3",
      "display_name": "Python 3"
    },
    "language_info": {
      "name": "python"
    }
  },
  "cells": [
    {
      "cell_type": "markdown",
      "metadata": {
        "id": "view-in-github",
        "colab_type": "text"
      },
      "source": [
        "<a href=\"https://colab.research.google.com/github/AntonMozhegov/Magazin/blob/main/%D0%97%D0%B0%D0%B4%D0%B0%D0%BD%D0%B8%D0%B51%D0%9C%D0%BE%D0%B6%D0%B5%D0%B3%D0%BE%D0%B2.ipynb\" target=\"_parent\"><img src=\"https://colab.research.google.com/assets/colab-badge.svg\" alt=\"Open In Colab\"/></a>"
      ]
    },
    {
      "cell_type": "code",
      "execution_count": 3,
      "metadata": {
        "colab": {
          "base_uri": "https://localhost:8080/"
        },
        "id": "YHRr6AXgkEJA",
        "outputId": "bdc29b32-c9f7-49bc-87a2-c5bea6971e63"
      },
      "outputs": [
        {
          "output_type": "stream",
          "name": "stdout",
          "text": [
            "Коэффициент детерминации (R²): 0.5907959008914012\n",
            "Свободный член (b₀): -442.6449303056979\n",
            "Коэффициент наклона (b₁): 152.5830650652629\n",
            "Предсказанные значения: [3036.24895318 3173.57371174 3005.73234017 2547.98314497 2837.8909686\n",
            " 2380.1417734  2898.92419462 4821.47081445 3600.80629392 1693.51798061\n",
            " 3310.8984703  3371.93169633 3722.87274598 4501.04637781 4134.84702165\n",
            " 4806.21250794 5569.12783327 4577.33791034 4897.76234698 5523.35291375]\n",
            "Средняя абсолютная ошибка (MAE): 711.7579391289896\n",
            "Среднеквадратичная ошибка (MSE): 771435.7494410776\n"
          ]
        }
      ],
      "source": [
        "# Импортируем необходимые библиотеки\n",
        "import numpy as np\n",
        "import pandas as pd\n",
        "from sklearn.linear_model import LinearRegression\n",
        "from sklearn.metrics import mean_absolute_error, mean_squared_error\n",
        "\n",
        "# Загружаем данные из файла Excel\n",
        "# Убедитесь, что файл 'regression.xlsx' загружен в Colab\n",
        "# Если файл находится на вашем компьютере, загрузите его в Colab\n",
        "# Для этого можно использовать кнопку \"Upload\" в Colab\n",
        "\n",
        "# Загружаем данные из листа с индексом 1 (второй лист)\n",
        "data = pd.read_excel('regression.xlsx', sheet_name=0)\n",
        "\n",
        "# Преобразуем данные в массивы numpy\n",
        "x = data.iloc[:, 0].values.reshape(-1, 1)  # Первый столбец - независимая переменная\n",
        "y = data.iloc[:, 1].values  # Второй столбец - зависимая переменная\n",
        "\n",
        "# Создаем и обучаем модель линейной регрессии\n",
        "model = LinearRegression()\n",
        "model.fit(x, y)\n",
        "\n",
        "# Получаем результаты\n",
        "r_squared = model.score(x, y)  # Коэффициент детерминации (R²)\n",
        "intercept = model.intercept_  # Свободный член (b₀)\n",
        "coef = model.coef_[0]  # Коэффициент наклона (b₁)\n",
        "\n",
        "print(f'Коэффициент детерминации (R²): {r_squared}')\n",
        "print(f'Свободный член (b₀): {intercept}')\n",
        "print(f'Коэффициент наклона (b₁): {coef}')\n",
        "\n",
        "# Предсказываем значения\n",
        "y_pred = model.predict(x)\n",
        "print('Предсказанные значения:', y_pred)\n",
        "\n",
        "# Вычисляем среднюю абсолютную ошибку (MAE)\n",
        "mae = mean_absolute_error(y, y_pred)\n",
        "print(f'Средняя абсолютная ошибка (MAE): {mae}')\n",
        "\n",
        "# Вычисляем среднеквадратичную ошибку (MSE)\n",
        "mse = mean_squared_error(y, y_pred)\n",
        "print(f'Среднеквадратичная ошибка (MSE): {mse}')"
      ]
    }
  ]
}